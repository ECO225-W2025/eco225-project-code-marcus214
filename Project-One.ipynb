{
 "cells": [
  {
   "cell_type": "markdown",
   "id": "aaaadf3b-e0d1-4199-b513-897aac540b6b",
   "metadata": {},
   "source": [
    "## Title of Research Paper\n"
   ]
  },
  {
   "cell_type": "markdown",
   "id": "6e224e78-cd8e-4bdf-8f39-5a8608ff0335",
   "metadata": {},
   "source": [
    "## Introduction\n",
    "Write a brief introduction of your project (two to four para-graphs)"
   ]
  },
  {
   "cell_type": "markdown",
   "id": "d6049b00-1cc3-4bc9-8344-8fcc83dfa431",
   "metadata": {},
   "source": [
    "## Dataset Cleaning and Loading\n",
    "\n",
    "- Name of your main dataset and additional datasets if you are using them in this report.\n",
    "- Where are those data come from? In what format? (i.e. csv) In this project, all dataset files are in CSV format, so they could be directly loaded to jupyter notebook.\n",
    "- When merging data from different datasets, it needs to identify fields are used to merge the datasets. In this step, we need to standardise data column name (for better readable code) and field format (i.e. all uppercase, remove unnecessary word/spaces, data type conversion if necessary).  \n",
    "- When merging datasources, some data might not be availble from one of them, it needs to identify the impact and clearly state all assumptions.\n"
   ]
  },
  {
   "cell_type": "code",
   "execution_count": 18,
   "id": "fb55ae45-b211-43e3-bf95-81d2088cdc34",
   "metadata": {},
   "outputs": [],
   "source": [
    "import pandas as pd\n",
    "import numpy as np\n",
    "import qeds\n",
    "import matplotlib.pyplot as plt\n",
    "\n",
    "# load president_county_candidate.csv\n",
    "president_county_cand = pd.read_csv('..\\\\Data\\\\president_county_candidate.csv')\n",
    "#president_county_cand.head()\n",
    "\n",
    "# load senate_county_candidate.csv\n",
    "senate_county_cand = pd.read_csv('..\\\\Data\\\\senate_county_candidate.csv')\n",
    "senate_county_cand.head()\n",
    "\n",
    "# load governors_county_candidate.csv\n",
    "governor_county_cand = pd.read_csv('..\\\\Data\\\\governors_county_candidate.csv')\n",
    "governor_county_cand.head()\n",
    "\n",
    "# load house_county_candidate.csv\n",
    "house_cand = pd.read_csv('..\\\\Data\\\\house_candidate.csv')\n",
    "house_cand.head()\n",
    "\n",
    "# load US_Election_dataset_v1.csv\n",
    "us_election = pd.read_csv(\"..\\\\Data\\\\US_Election_dataset_v1.csv\")\n",
    "#us_election.head()\n",
    "\n",
    "# data cleaning: president_county_cand\n",
    "# col 'state'\n",
    "president_county_cand['state'] = president_county_cand['state'].str.upper()\n",
    "president_county_cand['state'] = president_county_cand['state'].str.strip()\n",
    "president_county_cand['state'] = president_county_cand['state'].str.replace(\" \", \"\")\n",
    "# col 'county'\n",
    "president_county_cand['county'] = president_county_cand['county'].str.upper()\n",
    "president_county_cand['county'] = president_county_cand['county'].str.strip()\n",
    "president_county_cand['county'] = president_county_cand['county'].str.replace(\" COUNTY\", \"\")\n",
    "# president_county_cand_won: filter in won is True\n",
    "president_county_cand_won = president_county_cand.loc[president_county_cand['won'] == True].copy()\n",
    "president_county_cand_won\n",
    "\n",
    "# data cleaning: governor_county_cand\n",
    "# col 'state'\n",
    "governor_county_cand['state'] = governor_county_cand['state'].str.upper()\n",
    "governor_county_cand['state'] = governor_county_cand['state'].str.strip()\n",
    "# col 'County Name'\n",
    "governor_county_cand['county'] = governor_county_cand['county'].str.upper()\n",
    "governor_county_cand['county'] = governor_county_cand['county'].str.strip()\n",
    "governor_county_cand['county'] = governor_county_cand['county'].str.replace(\" COUNTY\", \"\")\n",
    "governor_county_cand['county'] = governor_county_cand['county'].str.upper()\n",
    "# filter in won is True\n",
    "governor_county_cand_won = governor_county_cand.loc[governor_county_cand['won'] == True].copy()\n",
    "\n",
    "# data cleaning: house_cand\n",
    "# col 'state'\n",
    "house_cand['district'] = house_cand['district'].str.upper()\n",
    "house_cand['district'] = house_cand['district'].str.strip()\n",
    "# filter in won is True\n",
    "house_cand_won = house_cand.loc[house_cand['won'] == True].copy()\n",
    "#print(house_cand_won)\n",
    "\n",
    "# data cleaning: senate_county_cand\n",
    "# col 'state'\n",
    "senate_county_cand['state'] = senate_county_cand['state'].str.upper()\n",
    "senate_county_cand['state'] = senate_county_cand['state'].str.strip()\n",
    "# col 'County Name'\n",
    "senate_county_cand['county'] = senate_county_cand['county'].str.upper()\n",
    "senate_county_cand['county'] = senate_county_cand['county'].str.strip()\n",
    "senate_county_cand['county'] = senate_county_cand['county'].str.replace(\" COUNTY\", \"\")\n",
    "senate_county_cand['county'] = senate_county_cand['county'].str.upper()\n",
    "# filter in records with max total_votes (won)\n",
    "senate_county_cand_won = senate_county_cand.copy()\n",
    "idx = senate_county_cand_won.groupby(['state', 'county'])['total_votes'].idxmax()\n",
    "senate_county_cand_won = senate_county_cand_won.loc[idx]\n",
    "#print(senate_county_cand_won)\n",
    "\n",
    "# data cleaning: us_election\n",
    "us_election = us_election.rename({'State': 'state', 'County Name': 'county'}, axis=1)\n",
    "# col 'state'\n",
    "us_election['state'] = us_election['state'].str.upper()\n",
    "us_election['state'] = us_election['state'].str.strip()\n",
    "# col 'County Name'\n",
    "us_election['county'] = us_election['county'].str.upper()\n",
    "us_election['county'] = us_election['county'].str.strip()\n",
    "us_election['county'] = us_election['county'].str.replace(\" COUNTY\", \"\")\n",
    "us_election['county'] = us_election['county'].str.upper()\n",
    "#us_election\n"
   ]
  },
  {
   "cell_type": "code",
   "execution_count": 22,
   "id": "40fba79c-6226-4852-b946-a1015ec561b6",
   "metadata": {},
   "outputs": [],
   "source": [
    "# president_county_cand_won: prepare new columns\n",
    "party_map = {'DEM': 0.0, 'REP': 1.0}\n",
    "president_county_cand_won['Party_Index'] = president_county_cand_won['party'].map(party_map)\n",
    "#print(president_county_cand_won.head())\n",
    "\n",
    "# senate_county_cand_won: prepare new columns\n",
    "senate_county_cand_won['Party_Index'] = [0.0 if x == 'DEM' else 1.0 for x in senate_county_cand_won['party']]\n",
    "#print(senate_county_cand_won.head())\n",
    "\n",
    "# governor_county_cand_won: prepare new columns\n",
    "governor_county_cand_won['Party_Index'] = [0.0 if x == 'DEM' else 1.0 for x in governor_county_cand_won['party']]\n",
    "#print(governor_county_cand_won.head())\n",
    "\n",
    "# house_cand_won: prepare new columns\n",
    "house_cand_won['Party_Index'] = [0.0 if x == 'DEM' else 1.0 for x in house_cand_won['party']]\n",
    "#print(house_cand_won.head())\n",
    "\n",
    "# us_election: prepare new columns\n",
    "us_election['Median income (dollars)'] = us_election['Median income (dollars)'].str.strip()\n",
    "us_election['Median income (dollars)'] = us_election['Median income (dollars)'].str.replace(',', '')\n",
    "us_election['Median_Income'] = us_election['Median income (dollars)'].astype('float')\n",
    "us_election['Won_Vote'] = us_election[[\"2020 Democrat vote raw\",\"2020 Republican vote raw\",\"2020 other vote raw\"]].max(axis=1)\n",
    "us_election['Total_Vote'] = us_election[\"2020 Democrat vote raw\"] + us_election[\"2020 Republican vote raw\"] + us_election[\"2020 other vote raw\"]\n",
    "us_election['Vote_Percentage'] = (us_election[\"Won_Vote\"] / us_election[\"Total_Vote\"]) * 100\n",
    "us_election['Degree_Or_Higher_Percentage'] = us_election[\"Associates Degree\"].str.rstrip('%').astype('float') + us_election[\"Bachelors Degree\"].str.rstrip('%').astype('float') + us_election[\"Graduate or professional degree\"].str.rstrip('%').astype('float')\n",
    "#us_election.head()\n",
    "\n",
    "final_df = pd.merge(president_county_cand_won, us_election, on=['state', 'county'], how=\"inner\")\n",
    "#print(final_df.count())\n"
   ]
  },
  {
   "cell_type": "markdown",
   "id": "0a3e0ef3-d6f8-4ae7-b30a-10198684e7a9",
   "metadata": {},
   "source": [
    "## Summary Statistics Tables\n",
    "Create at least four plots/figures/histograms for a passing mark.\\\n",
    "State and describe the X and Y variables.\n",
    "Party Index: 0 = democrat, 1 = Republican\n",
    "\n",
    "\n",
    "|               |  Mean    | Median   |  Mode   |  Range               |  Min     |   Max     |  Count  | Standard Deviation  |\n",
    "| ------------- | ------   | ------   | ------  | -------------------- | -----    | ------    | ------- | ------------------- |\n",
    "| **Governor**  | 0.921951 | 1.0      | 1.0     | 0.0 - 1.0            | 0.0      | 1.0       | 1025    | 0.268379            |\n",
    "| **House**     | 0.488532 | 0.0      | 0.0     | 0.0 - 1.0            | 0.0      | 1.0       | 436     | 0.500443            |\n",
    "| **Senate**    | 0.309378 | 0.0      | 0.0     | 0.0 - 1.0            | 0.0      | 1.0       | 3423    | 0.462305            |\n",
    "| **Income**    | 63305.60 | 60931.00 | 6125.00 | 17900.00 - 170463.00 | 17900.00 | 170463.00 | 3142    | 16819.01            |\n",
    "| **Education** | 33.11%   | 31.60%   | 34.50%  | 7.50% - 81.00%       | 81.00%   | 7.50%     | 3143    | 10.40%              |\n",
    "| **XXX**       |          |          |         |                      |          |           |         |                     |\n",
    "| **XXX**       |          |          |         |                      |          |           |         |                     |\n",
    "\n",
    "\n"
   ]
  },
  {
   "cell_type": "code",
   "execution_count": 23,
   "id": "2c8ed9bf-739e-4044-8ae3-dec21ffca07f",
   "metadata": {},
   "outputs": [
    {
     "name": "stdout",
     "output_type": "stream",
     "text": [
      "\n",
      "====================\n",
      "Governor:\n",
      "====================\n",
      "count    1025.000000\n",
      "mean        0.921951\n",
      "std         0.268379\n",
      "min         0.000000\n",
      "25%         1.000000\n",
      "50%         1.000000\n",
      "75%         1.000000\n",
      "max         1.000000\n",
      "Name: Party_Index, dtype: float64\n",
      "\n",
      "====================\n",
      "Governor - MEDIAN:\n",
      "====================\n",
      "1.0\n",
      "\n",
      "====================\n",
      "Governor - MODE:\n",
      "====================\n",
      "0    1.0\n",
      "Name: Party_Index, dtype: float64\n",
      "\n",
      "====================\n",
      "House:\n",
      "====================\n",
      "count    436.000000\n",
      "mean       0.488532\n",
      "std        0.500443\n",
      "min        0.000000\n",
      "25%        0.000000\n",
      "50%        0.000000\n",
      "75%        1.000000\n",
      "max        1.000000\n",
      "Name: Party_Index, dtype: float64\n",
      "\n",
      "====================\n",
      "House - MEDIAN:\n",
      "====================\n",
      "0.0\n",
      "\n",
      "====================\n",
      "House - MODE:\n",
      "====================\n",
      "0    0.0\n",
      "Name: Party_Index, dtype: float64\n",
      "\n",
      "====================\n",
      "Senate:\n",
      "====================\n",
      "count    3423.000000\n",
      "mean        0.309378\n",
      "std         0.462305\n",
      "min         0.000000\n",
      "25%         0.000000\n",
      "50%         0.000000\n",
      "75%         1.000000\n",
      "max         1.000000\n",
      "Name: Party_Index, dtype: float64\n",
      "\n",
      "====================\n",
      "Senate - MEDIAN:\n",
      "====================\n",
      "0.0\n",
      "\n",
      "====================\n",
      "Senate - MODE:\n",
      "====================\n",
      "0    0.0\n",
      "Name: Party_Index, dtype: float64\n",
      "\n",
      "====================\n",
      "4 Variables:\n",
      "====================\n",
      "                              count          mean           std         min  \\\n",
      "Median_Income                3142.0  63305.597708  16819.012690  17900.0000   \n",
      "Degree_Or_Higher_Percentage  3143.0     33.105250     10.401616      7.5000   \n",
      "Density per square km        3143.0    106.439895    704.093329      0.0100   \n",
      "Gini Index                   3143.0      0.446797      0.037350      0.2744   \n",
      "\n",
      "                                    25%         50%          75%         max  \n",
      "Median_Income                52549.7500  60931.0000  70603.50000  170463.000  \n",
      "Degree_Or_Higher_Percentage     25.6500     31.6000     39.30000      81.100  \n",
      "Density per square km            6.2200     17.2700     45.60500   28048.180  \n",
      "Gini Index                       0.4214      0.4447      0.46955       0.721  \n",
      "\n",
      "====================\n",
      "4 Variables - MEDIAN:\n",
      "====================\n",
      "Median_Income                  60931.0000\n",
      "Degree_Or_Higher_Percentage       31.6000\n",
      "Density per square km             17.2700\n",
      "Gini Index                         0.4447\n",
      "dtype: float64\n",
      "\n",
      "====================\n",
      "4 Variables - MODE:\n",
      "====================\n",
      "   Median_Income  Degree_Or_Higher_Percentage  Density per square km  \\\n",
      "0        61250.0                         34.5                  13.28   \n",
      "1            NaN                          NaN                    NaN   \n",
      "\n",
      "   Gini Index  \n",
      "0      0.4510  \n",
      "1      0.4588  \n"
     ]
    }
   ],
   "source": [
    "# Get statistics\n",
    "\n",
    "print(\"\\n====================\")\n",
    "print(\"Governor:\")\n",
    "print(\"====================\")\n",
    "print(governor_county_cand_won['Party_Index'].describe())\n",
    "print(\"\\n====================\")\n",
    "print(\"Governor - MEDIAN:\")\n",
    "print(\"====================\")\n",
    "print(governor_county_cand_won['Party_Index'].median())\n",
    "print(\"\\n====================\")\n",
    "print(\"Governor - MODE:\")\n",
    "print(\"====================\")\n",
    "print(governor_county_cand_won['Party_Index'].mode())\n",
    "\n",
    "print(\"\\n====================\")\n",
    "print(\"House:\")\n",
    "print(\"====================\")\n",
    "print(house_cand_won['Party_Index'].describe())\n",
    "print(\"\\n====================\")\n",
    "print(\"House - MEDIAN:\")\n",
    "print(\"====================\")\n",
    "print(house_cand_won['Party_Index'].median())\n",
    "print(\"\\n====================\")\n",
    "print(\"House - MODE:\")\n",
    "print(\"====================\")\n",
    "print(house_cand_won['Party_Index'].mode())\n",
    "\n",
    "print(\"\\n====================\")\n",
    "print(\"Senate:\")\n",
    "print(\"====================\")\n",
    "print(senate_county_cand_won['Party_Index'].describe())\n",
    "print(\"\\n====================\")\n",
    "print(\"Senate - MEDIAN:\")\n",
    "print(\"====================\")\n",
    "print(senate_county_cand_won['Party_Index'].median())\n",
    "print(\"\\n====================\")\n",
    "print(\"Senate - MODE:\")\n",
    "print(\"====================\")\n",
    "print(senate_county_cand_won['Party_Index'].mode())\n",
    "\n",
    "# generate statistics\n",
    "print(\"\\n====================\")\n",
    "print(\"4 Variables:\")\n",
    "print(\"====================\")\n",
    "columns = [\"Median_Income\", \"Degree_Or_Higher_Percentage\", \"Density per square km\", \"Gini Index\"]\n",
    "print(us_election[columns].describe().transpose())\n",
    "print(\"\\n====================\")\n",
    "print(\"4 Variables - MEDIAN:\")\n",
    "print(\"====================\")\n",
    "print(us_election[columns].median())\n",
    "print(\"\\n====================\")\n",
    "print(\"4 Variables - MODE:\")\n",
    "print(\"====================\")\n",
    "print(us_election[columns].mode())\n",
    "\n",
    "\n"
   ]
  },
  {
   "cell_type": "markdown",
   "id": "20563570-4661-4fde-b659-e877e3c620e5",
   "metadata": {},
   "source": [
    "## Plots, Histograms, Figures\n",
    "\n",
    "Create at least four plots/figures/histograms for a passing mark."
   ]
  },
  {
   "cell_type": "markdown",
   "id": "7a5e43be-8c01-4a7d-82f6-c9af933140b7",
   "metadata": {},
   "source": [
    "### Graph-1: No. of Counties Won against Party in President Election"
   ]
  },
  {
   "cell_type": "code",
   "execution_count": 6,
   "id": "5c111183-9b70-4d1d-b249-0c8f20bc6ba5",
   "metadata": {},
   "outputs": [
    {
     "data": {
      "text/plain": [
       "[Text(0, 0, '514'), Text(0, 0, '2575')]"
      ]
     },
     "execution_count": 6,
     "metadata": {},
     "output_type": "execute_result"
    },
    {
     "data": {
      "image/png": "[encoded data removed]",
      "text/plain": [
       "<Figure size 700x700 with 1 Axes>"
      ]
     },
     "metadata": {},
     "output_type": "display_data"
    }
   ],
   "source": [
    "# party dict\n",
    "party_dict = {'DEM': 'Democrat', 'REP': 'Republican'}\n",
    "final_df['party'] = final_df['party'].map(lambda x: party_dict.get(x, 'Third-Party'))\n",
    "\n",
    "# calculate value counts\n",
    "counts = final_df['party'].value_counts()\n",
    "\n",
    "fig, ax = plt.subplots(figsize=(7, 7))\n",
    "counts.sort_index().plot(kind='bar', color='skyblue')\n",
    "\n",
    "# plot barchart\n",
    "ax.set_xlabel('Party')\n",
    "ax.set_ylabel('Count')\n",
    "ax.spines['right'].set_visible(False)\n",
    "ax.spines['top'].set_visible(False)\n",
    "ax.set_title(\"Graphy-1: No. of County Won by Party in President Election 2020\")\n",
    "ax.bar_label(ax.containers[0])\n"
   ]
  },
  {
   "cell_type": "markdown",
   "id": "10694175-738d-4547-8997-b62d16864293",
   "metadata": {},
   "source": [
    "### Graph-2: Percentage of votes won within county vs Median Income"
   ]
  },
  {
   "cell_type": "code",
   "execution_count": 7,
   "id": "78a95f34-9208-4219-ad7b-500fd43e1bf3",
   "metadata": {},
   "outputs": [
    {
     "data": {
      "image/png": "[encoded data removed]",
      "text/plain": [
       "<Figure size 1000x800 with 1 Axes>"
      ]
     },
     "metadata": {},
     "output_type": "display_data"
    }
   ],
   "source": [
    "# Graph-2: Percentage of votes won within county vs Median Income\n",
    "fig, ax = plt.subplots(figsize=(10, 8))\n",
    "\n",
    "# select columns to be ploted\n",
    "data_df = final_df[['Median_Income', 'Vote_Percentage', 'party']]\n",
    "\n",
    "bgcolor = (250/255, 250/255, 250/255)\n",
    "\n",
    "# plot chart\n",
    "colors = {'Democrat': '#1385ff', 'Republican': 'red', 'Third-Party': 'purple'}\n",
    "\n",
    "rep_df = data_df[data_df['party']=='Republican']\n",
    "rep_df.plot.scatter(x=\"Median_Income\", y=\"Vote_Percentage\", ax=ax, color=colors['Republican'], s=3)\n",
    "dem_df = data_df[data_df['party']=='Democrat']\n",
    "dem_df.plot.scatter(x=\"Median_Income\", y=\"Vote_Percentage\", ax=ax, color=colors['Democrat'], s=3)\n",
    "other_df = data_df[data_df['party']=='Third-Party']\n",
    "other_df.plot.scatter(x=\"Median_Income\", y=\"Vote_Percentage\", ax=ax, color=colors['Third-Party'], s=3)\n",
    "\n",
    "# set title and labels\n",
    "ax.set_xlabel('Median Income ($)')\n",
    "ax.set_ylabel('Won County Vote %')\n",
    "ax.set_title(\"Graph-2: Percentage of votes won within county vs Median Income\")\n",
    "ax.set_facecolor(bgcolor)\n",
    "ax.spines['right'].set_visible(False)\n",
    "ax.spines['top'].set_visible(False)\n",
    "ax.set_ylim(0, 100)\n",
    "ax.set_xlim((0, 160000))\n",
    "\n",
    "ax.annotate(\"Democrat\", (90000, 40), color=colors[\"Democrat\"])\n",
    "ax.annotate(\"Republican\", (20000, 95), color=colors[\"Republican\"]);\n",
    "ax.set_zorder(1)"
   ]
  },
  {
   "cell_type": "markdown",
   "id": "9c9b8997-8528-40d2-a7f4-22060193f033",
   "metadata": {},
   "source": [
    "### Graph-3: Percentage of votes won within county vs Education\n"
   ]
  },
  {
   "cell_type": "code",
   "execution_count": 8,
   "id": "7094d13e-3324-4806-a90a-072ec243bbc3",
   "metadata": {},
   "outputs": [
    {
     "data": {
      "text/plain": [
       "Text(0.5, 1.0, 'Democrat')"
      ]
     },
     "execution_count": 8,
     "metadata": {},
     "output_type": "execute_result"
    },
    {
     "data": {
      "image/png": "[encoded data removed]",
      "text/plain": [
       "<Figure size 1200x600 with 2 Axes>"
      ]
     },
     "metadata": {},
     "output_type": "display_data"
    }
   ],
   "source": [
    "# Graph-3: Percentage of votes won within county vs Education\n",
    "fig, ax = plt.subplots(1, 2, figsize=(12, 6))\n",
    "\n",
    "# select columns to be ploted\n",
    "data_df = final_df[[\"Degree_Or_Higher_Percentage\", \"Vote_Percentage\", \"party\"]]\n",
    "\n",
    "# group Education attainment in range\n",
    "education_bins = np.arange(0, 100, 10)\n",
    "g2_df = data_df.copy()\n",
    "g2_df['EducationGroup'] = pd.cut(data_df[\"Degree_Or_Higher_Percentage\"], bins=education_bins)\n",
    "g2_df['EducationGroupMid'] = g2_df['EducationGroup'].apply(lambda x: x.mid)\n",
    "rep_df = g2_df[g2_df['party']=='Republican'].copy()\n",
    "rep_df.boxplot(by='EducationGroupMid', column =['Vote_Percentage'], ax=ax[0], grid = False) \n",
    "dem_df = g2_df[g2_df['party']=='Democrat'].copy()\n",
    "dem_df.boxplot(by='EducationGroupMid', column =['Vote_Percentage'], ax=ax[1], grid = False) \n",
    "\n",
    "\n",
    "fig.suptitle(\"Graph-3: Percentage of votes won within county vs Bachelors Degree or Higher Percentage\")\n",
    "ax[0].grid(axis='y')\n",
    "ax[0].set_xlabel(\"Bachelor's Degree or Higher %\")\n",
    "ax[0].set_ylabel('Won County Vote %')\n",
    "ax[0].set_title(\"Republican\")\n",
    "ax[1].grid(axis='y')\n",
    "ax[1].set_xlabel(\"Bachelor's Degree or Higher %\")\n",
    "ax[1].set_ylabel('Won County Vote %')\n",
    "ax[1].set_title(\"Democrat\")"
   ]
  },
  {
   "cell_type": "markdown",
   "id": "fd235ea5-3ed6-4e05-81e4-f7e9bfa6db89",
   "metadata": {},
   "source": [
    "### Graph-4: Percentage of votes won within county vs XXXX"
   ]
  },
  {
   "cell_type": "code",
   "execution_count": null,
   "id": "bc54818a-30d1-40a9-82e6-ed211e0272b2",
   "metadata": {},
   "outputs": [],
   "source": []
  },
  {
   "cell_type": "code",
   "execution_count": null,
   "id": "54eed8ec-98de-4b9e-a4b8-5091f387e6ef",
   "metadata": {},
   "outputs": [],
   "source": []
  },
  {
   "cell_type": "code",
   "execution_count": null,
   "id": "e6a89ab7-71b2-41ea-aa3c-c41b8a5aa7e5",
   "metadata": {},
   "outputs": [],
   "source": []
  },
  {
   "cell_type": "markdown",
   "id": "696d9c15-427f-424d-99e8-099a995dd78f",
   "metadata": {},
   "source": [
    "### Graph-5: No. of votes for each party vs State"
   ]
  },
  {
   "cell_type": "code",
   "execution_count": null,
   "id": "3c252896-f69f-4fba-b4a9-cbd69f6f13b3",
   "metadata": {},
   "outputs": [],
   "source": []
  },
  {
   "cell_type": "code",
   "execution_count": null,
   "id": "ad897cc4-be3a-4ad6-aa42-0b34271453b4",
   "metadata": {},
   "outputs": [],
   "source": []
  },
  {
   "cell_type": "code",
   "execution_count": null,
   "id": "b0d86391-2e6c-4695-8fb8-c5d5118d23ea",
   "metadata": {},
   "outputs": [],
   "source": []
  },
  {
   "cell_type": "markdown",
   "id": "37d20dce-f9c1-41da-ada4-0cbbf9aee54c",
   "metadata": {},
   "source": [
    "### Graph-5: Vote share for each party vs XXXX"
   ]
  },
  {
   "cell_type": "code",
   "execution_count": null,
   "id": "ec25598e-76aa-4ce1-b27d-270610c1d87d",
   "metadata": {
    "jupyter": {
     "source_hidden": true
    }
   },
   "outputs": [],
   "source": []
  },
  {
   "cell_type": "code",
   "execution_count": null,
   "id": "03a974dc-0f94-4e9f-8bac-629139877494",
   "metadata": {},
   "outputs": [],
   "source": []
  },
  {
   "cell_type": "code",
   "execution_count": null,
   "id": "bb3ba9f5-c2ec-4d62-8b6c-18191fc73ce0",
   "metadata": {},
   "outputs": [],
   "source": []
  },
  {
   "cell_type": "markdown",
   "id": "27c1f713-9d7f-4ca3-9d9a-003288b52327",
   "metadata": {},
   "source": [
    "### Graph-5: Proportion of counties won by each party vs Eelection Type"
   ]
  },
  {
   "cell_type": "code",
   "execution_count": null,
   "id": "8c5a9eb0-73b3-446a-8c78-20718f15fa70",
   "metadata": {},
   "outputs": [],
   "source": []
  },
  {
   "cell_type": "code",
   "execution_count": null,
   "id": "4eda07a1-9e7a-4d60-92fe-70ae76862261",
   "metadata": {},
   "outputs": [],
   "source": []
  },
  {
   "cell_type": "code",
   "execution_count": null,
   "id": "ab707c0f-6aa9-4279-8c04-10d8cb69b6c2",
   "metadata": {},
   "outputs": [],
   "source": []
  },
  {
   "cell_type": "code",
   "execution_count": null,
   "id": "9d790fd0-b906-4a3b-9ef2-7a4356389fba",
   "metadata": {},
   "outputs": [],
   "source": []
  },
  {
   "cell_type": "markdown",
   "id": "0219ba40-f88b-4ee5-9ce7-d5e36beffaac",
   "metadata": {},
   "source": [
    "## Conclusion\n",
    "Explain your findings in brief and scientic language. The minimum length for the conclusion in this project is one paragraph. Your\n",
    "conclusion should briey summarize the takeaways from your project."
   ]
  },
  {
   "cell_type": "code",
   "execution_count": null,
   "id": "f1bf3c96-2bd5-4aa9-8b88-db00a70d3dc3",
   "metadata": {},
   "outputs": [],
   "source": []
  },
  {
   "cell_type": "code",
   "execution_count": null,
   "id": "c0af5176-0081-4b17-82a1-0603e2f8cdec",
   "metadata": {},
   "outputs": [],
   "source": []
  },
  {
   "cell_type": "code",
   "execution_count": null,
   "id": "c906ac10-7f09-4ecf-9be4-290e4de576e7",
   "metadata": {},
   "outputs": [],
   "source": []
  },
  {
   "cell_type": "code",
   "execution_count": null,
   "id": "0066ea89-a47e-4195-ad5b-496379f3f9b6",
   "metadata": {},
   "outputs": [],
   "source": []
  },
  {
   "cell_type": "code",
   "execution_count": null,
   "id": "5def2386-17ce-4c7c-874e-b16addcef56e",
   "metadata": {},
   "outputs": [],
   "source": []
  },
  {
   "cell_type": "code",
   "execution_count": null,
   "id": "f593df67-377c-4d93-8292-c1ca63d102e0",
   "metadata": {},
   "outputs": [],
   "source": []
  },
  {
   "cell_type": "code",
   "execution_count": null,
   "id": "bbf952cd-d36d-4344-8b4e-96feef120a6d",
   "metadata": {},
   "outputs": [],
   "source": []
  },
  {
   "cell_type": "code",
   "execution_count": null,
   "id": "6a42946e-725c-4d58-9fb7-1f9deb35c7ec",
   "metadata": {},
   "outputs": [],
   "source": []
  },
  {
   "cell_type": "code",
   "execution_count": null,
   "id": "9a0190d5-133b-4bc8-999c-1a3305efdc02",
   "metadata": {},
   "outputs": [],
   "source": []
  },
  {
   "cell_type": "code",
   "execution_count": null,
   "id": "6e51e29e-bcad-4562-80d3-6709043a75f9",
   "metadata": {},
   "outputs": [],
   "source": []
  },
  {
   "cell_type": "code",
   "execution_count": null,
   "id": "9061a68c-4ec0-4207-ba0b-dabdf21efa19",
   "metadata": {},
   "outputs": [],
   "source": []
  },
  {
   "cell_type": "markdown",
   "id": "3f98d3b1-c0f5-4863-968a-b6ed01ee0472",
   "metadata": {},
   "source": [
    "## Research Summary\n",
    "Please provide a one-paragraph description covering the following. We want exactly one paragraph (4-5 lines). Longer responses will result in formatting penalties.\n",
    "\n",
    "- **Research Question:** Clearly state your research question or hypothesis.\n",
    "- **Data Source and Structure:** Describe the data source and structure (e.g.,firm-year level, individual-level, etc.).\n",
    "- **Outcome Variable(s) and Variable(s) of Interest:** Defne your outcome variable(s) and key variables of interest.\n",
    "\n",
    "This paragraph ensures clarity and consistency. Use the same description in futurereports if unchanged.\n",
    "\n"
   ]
  },
  {
   "cell_type": "code",
   "execution_count": null,
   "id": "69f0dfdd-22e7-46e7-9294-11e176032e9d",
   "metadata": {
    "scrolled": true
   },
   "outputs": [],
   "source": [
    "import pandas as pd\n",
    "import numpy as np\n",
    "import qeds\n",
    "import matplotlib.pyplot as plt\n",
    "\n",
    "df = pd.read_csv('..\\Data\\socioeconomic_voting.csv')\n",
    "df.head()"
   ]
  },
  {
   "cell_type": "markdown",
   "id": "90a57ade-db9d-48c5-837b-27bd47d82955",
   "metadata": {},
   "source": [
    "**Summary Statistics**"
   ]
  },
  {
   "cell_type": "code",
   "execution_count": null,
   "id": "dda9f47d-bcdd-4d7d-be4e-facfe3e992d8",
   "metadata": {},
   "outputs": [],
   "source": [
    "df = pd.read_csv('..\\Data\\socioeconomic_voting.csv')\n",
    "columns = [\"County Median Household Income (2021)\", \"Unemployment Rate 2020\", \"Bachelor's Degree or Higher Percentage (2018-2022)\", \"Urban Influence Code 2013\"]\n",
    "df[columns].describe()"
   ]
  },
  {
   "cell_type": "code",
   "execution_count": null,
   "id": "4ae1e9c3-4c31-4034-9116-c0637e630e09",
   "metadata": {},
   "outputs": [],
   "source": [
    "print(\"Median:\")\n",
    "df[columns].median()"
   ]
  },
  {
   "cell_type": "code",
   "execution_count": null,
   "id": "1a6f7e1d-33d6-4090-af20-22ce53173abc",
   "metadata": {},
   "outputs": [],
   "source": [
    "print(\"Median:\")\n",
    "df[columns].mode()"
   ]
  },
  {
   "cell_type": "markdown",
   "id": "aafc6be1-ca5a-425b-8d03-6efcc2bfe6ab",
   "metadata": {},
   "source": [
    "## Four Visualization\n",
    "For this section, just give us **4** plots back to back.\n",
    "\n",
    "**Dataset Information**\n",
    "\n",
    "Create four different visualizations using your variables.\n",
    "\n",
    "1. Use bar plots, histograms, line plots, etc. (no maps).\n",
    "2. Ensure each plot has a clear and descriptive title.\n",
    "3. Visualizations must be relevant to your research question.\n"
   ]
  },
  {
   "cell_type": "markdown",
   "id": "85bf9043-be44-4a98-95dc-c20b5458ca70",
   "metadata": {},
   "source": [
    "**Graph-1: No. of Counties Won against Party in President Election**\n"
   ]
  },
  {
   "cell_type": "code",
   "execution_count": null,
   "id": "6eb4144f-235d-40c4-8824-fdb8277b71ea",
   "metadata": {},
   "outputs": [],
   "source": [
    "#Graph-1: No. of Counties Won against Party in President Election\n",
    "\n",
    "president_county_cand = pd.read_csv('..\\Data\\president_county_candidate.csv')\n",
    "party_dict = {'DEM': 'Democrat', 'REP': 'Republican'}\n",
    "president_county_cand['party'] = president_county_cand['party'].map(lambda x: party_dict.get(x, 'Third-Party'))\n",
    "\n",
    "# Get all Won records\n",
    "result = president_county_cand[(president_county_cand['won'] == True)]\n",
    "\n",
    "# Calculate value counts\n",
    "counts = result['party'].value_counts()\n",
    "\n",
    "fig, ax = plt.subplots(figsize=(7, 7))\n",
    "counts.sort_index().plot(kind='bar', color='skyblue')\n",
    "\n",
    "# Plot barchart\n",
    "ax.set_xlabel('Party')\n",
    "ax.set_ylabel('Count')\n",
    "ax.spines['right'].set_visible(False)\n",
    "ax.spines['top'].set_visible(False)\n",
    "ax.set_title(\"Graphy-1: No. of County Won by Party in President Election 2020\")\n",
    "ax.bar_label(ax.containers[0])\n",
    "\n"
   ]
  },
  {
   "cell_type": "code",
   "execution_count": null,
   "id": "8c6fb509-6d27-4870-9594-70fbd7ff705b",
   "metadata": {
    "scrolled": true
   },
   "outputs": [],
   "source": [
    "president_county_cand = pd.read_csv('..\\Data\\president_county_candidate.csv')\n",
    "party_dict = {'DEM': 'Democrat', 'REP': 'Republican'}\n",
    "president_county_cand['party'] = president_county_cand['party'].map(lambda x: party_dict.get(x, 'Third-Party'))\n",
    "\n",
    "# combine towns into county for some states\n",
    "def combine_by_county_list(ddf: pd.DataFrame, state: str, county: str, county_list: list) -> pd.DataFrame:\n",
    "\n",
    "    # select all target rows\n",
    "    #print(\"Filtered_df:\")\n",
    "    filtered_df = ddf[ddf['county'].isin(county_list) & (ddf['state'] == state_name)]\n",
    "    #print(filtered_df)\n",
    "\n",
    "    # combined the selected rows\n",
    "    combined_df = filtered_df.groupby(['state', 'candidate', 'party', 'won']).agg(\n",
    "    total_votes=('total_votes', 'sum')).reset_index()\n",
    "\n",
    "    # add col 'county' to combined_df\n",
    "    combined_df['county'] = county\n",
    "    #print(combined_df)\n",
    "    \n",
    "    # remove the matched counties rows\n",
    "    updated_df = ddf[ ~ddf['county'].isin(county_list) & (ddf['state'] != state_name)]\n",
    "    #print(updated_df)\n",
    "\n",
    "    # add new row\n",
    "    updated_df = pd.concat([updated_df, combined_df], ignore_index=True)\n",
    "    \n",
    "    return updated_df\n",
    "\n",
    "\n",
    "# data cleaning\n",
    "# president county candidate\n",
    "# col 'state'\n",
    "president_county_cand['state'] = president_county_cand['state'].str.upper()\n",
    "president_county_cand['state'] = president_county_cand['state'].str.strip()\n",
    "# col 'county'\n",
    "president_county_cand['county'] = president_county_cand['county'].str.upper()\n",
    "president_county_cand['county'] = president_county_cand['county'].str.strip()\n",
    "president_county_cand['county'] = president_county_cand['county'].str.replace(\" COUNTY\", \"\")\n",
    "\n",
    "president_county_cand = president_county_cand.loc[president_county_cand['won'] == True]\n",
    "#print(president_county_cand.count())\n",
    "\n",
    "# consolidate multiple towns to one county record for 'DISTRICT OF COLUMBIA'\n",
    "state_name = 'DISTRICT OF COLUMBIA'\n",
    "county_name = 'DISTRICT OF COLUMBIA'\n",
    "county_match_list = ['DISTRICT OF COLUMBIA', 'WARD 2', 'WARD 3', 'WARD 4', 'WARD 5', 'WARD 6', 'WARD 7', 'WARD 8']\n",
    "\n",
    "pcc_df = combine_by_county_list(president_county_cand, state_name, county_name, county_match_list)\n",
    "#print(pcc_df.loc[df['state'] == state_name])\n",
    "#print(pcc_df)\n",
    "\n",
    "#state_name = 'CONNECTICUT'\n",
    "#county_name = 'FAIRFIELD'\n",
    "#county_match_list = [\"BETHEL\",\t\"BRIDGEPORT\",\t\"BROOKFIELD\",\t\"DANBURY\",\t\"DARIEN\",\t\"EASTON\",\t\"FAIRFIELD\",\t\"GREENWICH\",\t\n",
    "#                     \"MONROE\",\t\"NEW CANAAN\",\t\"NEW FAIRFIELD\",\t\"NEWTOWN\",\t\"NORWALK\",\t\"REDDING\",\t\"RIDGEFIELD\",\t\"SHELTON\",\t\n",
    "#                     \"SHERMAN\",\t\"STAMFORD\",\t\"STRATFORD\",\t\"TRUMBULL\",\t\"WESTON\",\t\"WESTPORT\",\t\"WILTON\",]\n",
    "#ccc = combine_by_county_list(pcc_df, state_name, county_name, county_match_list)\n",
    "#print(pcc_df.loc[df['state'] == state_name])\n",
    "#print(ccc)\n",
    "\n",
    "\n",
    "\n",
    "# socioeconomic voting\n",
    "soc_econ_voting = pd.read_csv('..\\Data\\socioeconomic_voting.csv')\n",
    "# data cleaning\n",
    "sev_df = soc_econ_voting.rename({'State': 'state', 'County Name': 'county'}, axis=1)\n",
    "# col 'state'\n",
    "sev_df['state'] = sev_df['state'].str.upper()\n",
    "sev_df['state'] = sev_df['state'].str.strip()\n",
    "# col 'County Name'\n",
    "sev_df['county'] = sev_df['county'].str.upper()\n",
    "sev_df['county'] = sev_df['county'].str.strip()\n",
    "sev_df['county'] = sev_df['county'].str.replace(\" COUNTY\", \"\")\n",
    "print(sev_df.count())\n",
    "#sev_df\n",
    "\n",
    "\n",
    "\n",
    "final_df = pd.merge(pcc_df, sev_df, on=['state', 'county'], how=\"inner\")\n",
    "print(final_df.count())\n",
    "     \n",
    "\n"
   ]
  },
  {
   "cell_type": "markdown",
   "id": "40c09c78-0f8c-4fe4-a6eb-5f7df9af3c73",
   "metadata": {},
   "source": [
    "**Graph-2: Percentage of votes won within county vs Median Income**"
   ]
  },
  {
   "cell_type": "code",
   "execution_count": null,
   "id": "5ff416c1-1ea7-4e88-9904-57d799380e94",
   "metadata": {},
   "outputs": [],
   "source": [
    "# Graph-2: Percentage of votes won within county vs Median Income\n",
    "fig, ax = plt.subplots(figsize=(9, 7))\n",
    "\n",
    "# select columns to be ploted\n",
    "data_df = final_df[['County Median Household Income (2021)', 'Vote Percentage', 'party']]\n",
    "\n",
    "# group Household Income in range\n",
    "#income_bins = np.arange(20000, 180000, 2000)\n",
    "#data_df['IncomeGroup'] = pd.cut(data_df['County Median Household Income (2021)'], bins=income_bins)\n",
    "#print(data_df)\n",
    "#g2_df = data_df.groupby('IncomeGroup').agg(\n",
    "#                Count=('Vote Percentage', 'size'),\n",
    "#                Averge_Vote_Percentage=('Vote Percentage', 'mean')\n",
    "#                ).reset_index()\n",
    "#g2_df['IncomeGroup_Mid'] = g2_df['IncomeGroup'].apply(lambda x: x.mid)\n",
    "#print(g2_df)\n",
    "\n",
    "bgcolor = (250/255, 250/255, 250/255)\n",
    "\n",
    "\n",
    "# plot chart\n",
    "colors = {'Democrat': '#1385ff', 'Republican': 'red', 'Third-Party': 'purple'}\n",
    "#data_df.plot.scatter(x=\"County Median Household Income (2021)\", y=\"Vote Percentage\", ax=ax, color=colors['party'], s=3)\n",
    "\n",
    "rep_df = data_df[data_df['party']=='Republican']\n",
    "rep_df.plot.scatter(x=\"County Median Household Income (2021)\", y=\"Vote Percentage\", ax=ax, color=colors['Republican'], s=3)\n",
    "dem_df = data_df[data_df['party']=='Democrat']\n",
    "dem_df.plot.scatter(x=\"County Median Household Income (2021)\", y=\"Vote Percentage\", ax=ax, color=colors['Democrat'], s=3)\n",
    "other_df = data_df[data_df['party']=='Third-Party']\n",
    "other_df.plot.scatter(x=\"County Median Household Income (2021)\", y=\"Vote Percentage\", ax=ax, color=colors['Third-Party'], s=3)\n",
    "\n",
    "# set title and labels\n",
    "ax.set_xlabel('Median Household Income ($)')\n",
    "ax.set_ylabel('Won County Vote %')\n",
    "ax.set_title(\"Graph-2: Percentage of votes won within county vs Median Income\")\n",
    "ax.set_facecolor(bgcolor)\n",
    "ax.spines['right'].set_visible(False)\n",
    "ax.spines['top'].set_visible(False)\n",
    "ax.set_ylim(0, 100)\n",
    "ax.set_xlim((0, 160000))\n",
    "\n",
    "ax.annotate(\"Democrat\", (90000, 15), color=colors[\"Democrat\"])\n",
    "ax.annotate(\"Republican\", (15000, 93), color=colors[\"Republican\"]);\n",
    "ax.set_zorder(1)"
   ]
  },
  {
   "cell_type": "markdown",
   "id": "de0c16cd-6cd1-4900-a5ab-c9d08504ae0f",
   "metadata": {},
   "source": [
    "**Graph-3: Percentage of votes won within county vs Median Income**"
   ]
  },
  {
   "cell_type": "code",
   "execution_count": null,
   "id": "94160e98-3641-4b0c-a6e4-07d0d9cf1534",
   "metadata": {},
   "outputs": [],
   "source": [
    "# Graph-3: Percentage of votes won within county vs Median Income\n",
    "\n",
    "fig, ax = plt.subplots(1, 2, figsize=(10, 6))\n",
    "\n",
    "# select columns to be ploted\n",
    "data_df = final_df[[\"Bachelor's Degree or Higher Percentage (2018-2022)\", \"Vote Percentage\", \"party\"]]\n",
    "\n",
    "# group Education attainment in range\n",
    "education_bins = np.arange(0, 100, 10)\n",
    "g2_df = data_df.copy()\n",
    "g2_df['EducationGroup'] = pd.cut(data_df[\"Bachelor's Degree or Higher Percentage (2018-2022)\"], bins=education_bins)\n",
    "g2_df['EducationGroupMid'] = g2_df['EducationGroup'].apply(lambda x: x.mid)\n",
    "rep_df = g2_df[g2_df['party']=='Republican'].copy()\n",
    "rep_df.boxplot(by='EducationGroupMid', column =['Vote Percentage'], ax=ax[0], grid = False) \n",
    "dem_df = g2_df[g2_df['party']=='Democrat'].copy()\n",
    "dem_df.boxplot(by='EducationGroupMid', column =['Vote Percentage'], ax=ax[1], grid = False) \n",
    "\n",
    "\n",
    "fig.suptitle(\"Graph-3: Percentage of votes won within county vs Bachelor's Degree or Higher Percentage\")\n",
    "ax[0].grid(axis='y')\n",
    "ax[0].set_xlabel(\"Bachelor's Degree or Higher %\")\n",
    "ax[0].set_ylabel('Won County Vote %')\n",
    "ax[0].set_title(\"Republican\")\n",
    "ax[1].grid(axis='y')\n",
    "ax[1].set_xlabel(\"Bachelor's Degree or Higher %\")\n",
    "ax[1].set_ylabel('Won County Vote %')\n",
    "ax[1].set_title(\"Democrat\")\n"
   ]
  },
  {
   "cell_type": "code",
   "execution_count": null,
   "id": "9bafa744-735e-46a0-b070-4cc803c45c12",
   "metadata": {},
   "outputs": [],
   "source": [
    "# Graph-4: Percentage of votes won within county vs Unemployment rate\n",
    "\n",
    "fig, ax = plt.subplots(figsize=(8, 6))\n",
    "\n",
    "# select columns to be ploted\n",
    "data_df = final_df[[\"Unemployment Rate 2020\", \"Vote Percentage\", \"party\"]]\n",
    "\n",
    "# group Education attainment in range\n",
    "unemployment_bins = np.arange(0, 25, 1)\n",
    "x_ticks = np.arange(0, 25, 2)\n",
    "\n",
    "# plot chart\n",
    "colors = {'Democrat': '#1385ff', 'Republican': 'red', 'Third-Party': 'purple'}\n",
    "\n",
    "g2_df = data_df.copy()\n",
    "g2_df['UnemploymentRateGroup'] = pd.cut(data_df[\"Unemployment Rate 2020\"], bins=unemployment_bins)\n",
    "\n",
    "# create count of Vote Percentage and Average of Vote Percentage\n",
    "g2_df = g2_df.groupby(['UnemploymentRateGroup', 'party'], observed=False).agg(\n",
    "                Averge_Vote_Percentage=('Vote Percentage', 'mean')\n",
    "                ).reset_index()\n",
    "g2_df['UnemploymentRateGroupMid'] = g2_df['UnemploymentRateGroup'].apply(lambda x: x.mid)\n",
    "g2_df.set_index('UnemploymentRateGroupMid', inplace=True)\n",
    "\n",
    "rep_df = g2_df[g2_df['party']=='Republican']\n",
    "rep_df = rep_df['Averge_Vote_Percentage'].fillna(0)\n",
    "rep_df.plot(y='Averge_Vote_Percentage', ax=ax, legend=False, color=colors[\"Republican\"], xticks=x_ticks)\n",
    "\n",
    "dem_df = g2_df[g2_df['party']=='Democrat']\n",
    "dem_df = dem_df['Averge_Vote_Percentage'].fillna(0)\n",
    "dem_df.plot(y='Averge_Vote_Percentage' , ax=ax, legend=False, color=colors[\"Democrat\"], xticks=x_ticks)\n",
    "\n",
    "#other_df = g2_df[g2_df['party']=='Third-Party']\n",
    "#other_df = other_df['Averge_Vote_Percentage'].fillna(0)\n",
    "#other_df.plot(y='Averge_Vote_Percentage' , ax=ax, legend=False, color=colors[\"Third-Party\"], xticks=x_ticks)\n",
    "\n",
    "\n",
    "# No cut() and groupby\n",
    "#dem_df = data_df[data_df['party']=='Republican']\n",
    "#dem_df.set_index('Unemployment Rate 2020', inplace=True)\n",
    "#dem_df.sort_index(inplace=True)\n",
    "#dem_df.plot(y='Vote Percentage' , ax=ax, legend=False, color=colors[\"Republican\"])\n",
    "\n",
    "#rep_df = data_df[data_df['party']=='Democrat']\n",
    "#rep_df.set_index('Unemployment Rate 2020', inplace=True)\n",
    "#rep_df.sort_index(inplace=True)\n",
    "#rep_df.plot(y='Vote Percentage' , ax=ax, legend=False, color=colors[\"Democrat\"])\n",
    "\n",
    "#other_df = data_df[data_df['party']=='Third-Party']\n",
    "#other_df.set_index('Unemployment Rate 2020', inplace=True)\n",
    "#other_df.sort_index(inplace=True)\n",
    "#other_df.plot(y='Vote Percentage' , ax=ax, legend=False, color=colors[\"Third-Party\"])\n",
    "\n",
    "ax.grid(axis='y')\n",
    "ax.set_xlabel(\"Unemployment Rate %\")\n",
    "ax.set_ylabel('Won County Vote %')\n",
    "ax.set_title(\"Graph-4: Percentage of votes won within county vs Unemployment Rate\")\n",
    "ax.spines['right'].set_visible(False)\n",
    "ax.spines['top'].set_visible(False)\n",
    "#ax.set_ylim(0, 100)\n",
    "#ax.set_xlim((0, 160000))\n",
    "\n",
    "ax.annotate(\"Democrat\", (4.6, 44), color=colors[\"Democrat\"])\n",
    "ax.annotate(\"Republican\", (2.7, 83), color=colors[\"Republican\"]);\n"
   ]
  },
  {
   "cell_type": "code",
   "execution_count": null,
   "id": "7819c276-4a98-4fa3-86cb-434ec02d8f06",
   "metadata": {},
   "outputs": [],
   "source": [
    "\n",
    "\n",
    "\n"
   ]
  },
  {
   "cell_type": "code",
   "execution_count": null,
   "id": "86c0788d-051f-45ff-a9d5-7190b3c80fe4",
   "metadata": {},
   "outputs": [],
   "source": []
  },
  {
   "cell_type": "code",
   "execution_count": null,
   "id": "9399c295-3e29-4278-8bfd-6022463035eb",
   "metadata": {},
   "outputs": [],
   "source": []
  },
  {
   "cell_type": "code",
   "execution_count": null,
   "id": "f1836f4c-8d8e-4d7f-a3d1-7866991f4dfc",
   "metadata": {},
   "outputs": [],
   "source": []
  },
  {
   "cell_type": "code",
   "execution_count": null,
   "id": "e8a664db-d213-4dad-be24-fee71ccd68d9",
   "metadata": {
    "scrolled": true
   },
   "outputs": [],
   "source": []
  },
  {
   "cell_type": "code",
   "execution_count": null,
   "id": "62a1bebc-ee30-470b-a920-ce3fa330b080",
   "metadata": {},
   "outputs": [],
   "source": []
  },
  {
   "cell_type": "code",
   "execution_count": null,
   "id": "5e968312-a1ad-48a6-b351-28b10eca7b29",
   "metadata": {},
   "outputs": [],
   "source": []
  },
  {
   "cell_type": "code",
   "execution_count": null,
   "id": "1609507d-596b-48a4-8b15-a50b3fccc008",
   "metadata": {},
   "outputs": [],
   "source": []
  },
  {
   "cell_type": "code",
   "execution_count": null,
   "id": "5a7ac47f-f887-401d-a852-831e61744bec",
   "metadata": {},
   "outputs": [],
   "source": []
  },
  {
   "cell_type": "code",
   "execution_count": null,
   "id": "f4c66eac-39ff-4f46-86cf-a9e886a86a3d",
   "metadata": {},
   "outputs": [],
   "source": []
  }
 ],
 "metadata": {
  "kernelspec": {
   "display_name": "Python 3 (ipykernel)",
   "language": "python",
   "name": "python3"
  },
  "language_info": {
   "codemirror_mode": {
    "name": "ipython",
    "version": 3
   },
   "file_extension": ".py",
   "mimetype": "text/x-python",
   "name": "python",
   "nbconvert_exporter": "python",
   "pygments_lexer": "ipython3",
   "version": "3.12.5"
  }
 },
 "nbformat": 4,
 "nbformat_minor": 5
}

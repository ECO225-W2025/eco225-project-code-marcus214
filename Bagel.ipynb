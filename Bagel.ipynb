{
 "cells": [
  {
   "cell_type": "markdown",
   "id": "aaaadf3b-e0d1-4199-b513-897aac540b6b",
   "metadata": {},
   "source": [
    "## Bagel Data\n",
    "\n",
    "This is a description of this notebook.\n",
    "\n"
   ]
  },
  {
   "cell_type": "code",
   "execution_count": null,
   "id": "e8a664db-d213-4dad-be24-fee71ccd68d9",
   "metadata": {},
   "outputs": [],
   "source": [
    "import random\n",
    "import numpy as np\n",
    "import pandas as pd\n",
    "import qeds\n",
    "import matplotlib.pyplot as plt\n",
    "\n",
    "#%matplotlib inline\n",
    "# activate plot theme\n",
    "import qeds"
   ]
  },
  {
   "cell_type": "code",
   "execution_count": null,
   "id": "19606b68-7dbb-4f47-91a5-2b971f318881",
   "metadata": {},
   "outputs": [],
   "source": [
    "# Dataframe \n",
    "bagel = pd.DataFrame({\n",
    "    \"City\" : [\"Montreal\",\"Montreal\",\"Montreal\", \"Montreal\", \"Montreal\",\"Montreal\",\"New York\", \"New York\", \"New York\", \"New York\", \"New York\", \"New York\"],\n",
    "    \"BagelProduced\" : [5, 10, 20, 25, 30, 35, 3, 13, 23, 23, 33, 33],\n",
    "    \"Year\": [2020, 2021, 2022, 2023, 2024, 2025, 2020, 2021, 2022, 2023, 2024, 2025]\n",
    "})\n",
    "\n",
    "# Look at dataframe\n",
    "bagel"
   ]
  },
  {
   "cell_type": "code",
   "execution_count": null,
   "id": "62a1bebc-ee30-470b-a920-ce3fa330b080",
   "metadata": {},
   "outputs": [],
   "source": []
  },
  {
   "cell_type": "code",
   "execution_count": null,
   "id": "5e968312-a1ad-48a6-b351-28b10eca7b29",
   "metadata": {},
   "outputs": [],
   "source": []
  }
 ],
 "metadata": {
  "kernelspec": {
   "display_name": "Python 3 (ipykernel)",
   "language": "python",
   "name": "python3"
  },
  "language_info": {
   "codemirror_mode": {
    "name": "ipython",
    "version": 3
   },
   "file_extension": ".py",
   "mimetype": "text/x-python",
   "name": "python",
   "nbconvert_exporter": "python",
   "pygments_lexer": "ipython3",
   "version": "3.12.5"
  }
 },
 "nbformat": 4,
 "nbformat_minor": 5
}
